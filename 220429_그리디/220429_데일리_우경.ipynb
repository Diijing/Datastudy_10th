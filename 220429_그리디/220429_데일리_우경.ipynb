{
 "cells": [
  {
   "cell_type": "markdown",
   "id": "7e9a0544",
   "metadata": {},
   "source": [
    "# 📖 Daily Study / group12"
   ]
  },
  {
   "cell_type": "markdown",
   "id": "88f96d70",
   "metadata": {},
   "source": [
    "📍 2022년 4월 29일\n",
    "\n",
    "📍 우리집엔 도서관이 있어 https://www.acmicpc.net/problem/2872"
   ]
  },
  {
   "cell_type": "markdown",
   "id": "995b6c39",
   "metadata": {},
   "source": [
    "문제\n",
    "- 상근이는 컴퓨터 공학의 일인자가 되기 위해 책을 매우 많이 구매했다. 하지만, 집에 책장이 없어서 책을 탑처럼 쌓아놓고 있다.\n",
    "\n",
    "- 오늘은 오랜만에 상근이가 집에서 휴식을 취하는 날이다. \n",
    "- 상근이는 책을 알파벳 순서대로 정렬하려고 한다. \n",
    "- 사전 순으로 가장 앞서는 책은 가장 위에 놓고, \n",
    "- 가장 뒤에 있는 책은 가장 밑에 놓아야 한다. \n",
    "- 책을 정렬할 때 사용할 수 있는 방법은 책 하나를 뺀 다음, 가장 위에 놓는 것이다.\n",
    "\n",
    "- 책은 1부터 N까지 번호가 책 이름의 사전 순으로 매겨져 있다. \n",
    "- 1은 사전 순으로 가장 앞서는 책이다. \n",
    "- 따라서, 위에서부터 책의 번호를 읽으면 (1, 2, ..., N)이 되어야 한다. \n",
    "- 예를 들어, 책이 3권있고 처음에 (3, 2, 1)로 쌓여있을 때, 2번 만에 사전순으로 책을 쌓을 수 있다. \n",
    "- 가장 먼저, 2번 책을 뺀 다음에 가장 위에 놓는다. \n",
    "- 그렇게 되면 (2, 3, 1)이 된다. \n",
    "- 마지막으로, 1을 뺀 다음 가장 위에 놓으면 (1, 2, 3)이 된다.\n",
    "\n",
    "- 현재 책이 어떻게 쌓여있는지가 주어졌을 때, 몇 번만에 사전 순으로 쌓을 수 있는지 구하는 프로그램을 작성하시오.\n",
    "\n",
    "입력\n",
    "- 첫째 줄에 책의 개수 N이 주어진다. (N ≤ 300,000)\n",
    "\n",
    "- 다음 N개 줄에는 가장 위에 있는 책부터 아래에 있는 책까지 순서대로 주어진다.\n",
    "\n",
    "출력\n",
    "- 첫째 줄에 몇 번만에 책을 정렬할 수 있는지 출력한다."
   ]
  },
  {
   "cell_type": "markdown",
   "id": "cbb14100",
   "metadata": {},
   "source": [
    "### 💻 문제를 풀어주세요"
   ]
  },
  {
   "cell_type": "code",
   "execution_count": null,
   "id": "78b452d3",
   "metadata": {},
   "outputs": [],
   "source": []
  },
  {
   "cell_type": "code",
   "execution_count": 42,
   "id": "22f1af61",
   "metadata": {},
   "outputs": [
    {
     "name": "stdout",
     "output_type": "stream",
     "text": [
      "3\n",
      "3\n",
      "2\n",
      "1\n",
      "[3, 2, 1]\n",
      "[1, 2, 3]\n"
     ]
    }
   ],
   "source": [
    "n = int(input())\n",
    "books = []\n",
    "standard = []\n",
    "for i in range(1, n+1):\n",
    "    book = int(input())\n",
    "    books.append(book)\n",
    "    standard.append(book)\n",
    "    \n",
    "standard.sort()\n",
    "print(books)\n",
    "print(standard)"
   ]
  },
  {
   "cell_type": "code",
   "execution_count": 35,
   "id": "21a732e9",
   "metadata": {},
   "outputs": [
    {
     "name": "stdout",
     "output_type": "stream",
     "text": [
      "[1, 2, 3]\n",
      "1\n"
     ]
    }
   ],
   "source": [
    "# ㄴㄴ\n",
    "switch_count = 0\n",
    "for i in range(n):\n",
    "    if i == 0:\n",
    "        continue\n",
    "    else:\n",
    "        if books[i-1] > books[i]:\n",
    "            switch_count += 1 \n",
    "            books[i-1], books[i] = books[i], books[i-1]\n",
    "\n",
    "print(books)\n",
    "print(switch_count)"
   ]
  },
  {
   "cell_type": "code",
   "execution_count": 40,
   "id": "5d8a754a",
   "metadata": {},
   "outputs": [],
   "source": []
  },
  {
   "cell_type": "code",
   "execution_count": 53,
   "id": "dc1bfd1b",
   "metadata": {},
   "outputs": [
    {
     "data": {
      "text/plain": [
       "[1, 3, 2]"
      ]
     },
     "execution_count": 53,
     "metadata": {},
     "output_type": "execute_result"
    }
   ],
   "source": [
    "#제일 큰 애는 손 대지 ㄴㄴ\n",
    "#1은 제일 마지막에 이동\n",
    "# 두 번째로 큰 애부터 세 번째 ... 1 순으로 이동하면서 이동 횟수 체크\n",
    "switch_count = 0\n",
    "for i in range(n):\n",
    "    if max(books) == books[i]:\n",
    "        continue\n",
    "        \n",
    "    else: \n",
    "        if books[-i] == standard[i]:\n",
    "            temp = books[0]\n",
    "            books[0] = books[i]\n",
    "            books[i] = temp\n",
    "            switch_count += 1\n",
    "            \n",
    "books"
   ]
  },
  {
   "cell_type": "code",
   "execution_count": 54,
   "id": "6e74677a",
   "metadata": {},
   "outputs": [
    {
     "data": {
      "text/plain": [
       "1"
      ]
     },
     "execution_count": 54,
     "metadata": {},
     "output_type": "execute_result"
    }
   ],
   "source": [
    "switch_count"
   ]
  },
  {
   "cell_type": "code",
   "execution_count": null,
   "id": "e39ac7b1",
   "metadata": {},
   "outputs": [],
   "source": [
    "#https://velog.io/@jaenny/%EB%B0%B1%EC%A4%80-2872-%EC%9A%B0%EB%A6%AC%EC%A7%91%EC%97%94-%EB%8F%84%EC%84%9C%EA%B4%80%EC%9D%B4-%EC%9E%88%EC%96%B4\n",
    "import sys\n",
    "n=int(input())\n",
    "cnt = 0\n",
    "L=[int(sys.stdin.readline())]\n",
    "max = L[0]\n",
    "for i in range(1,n):\n",
    " L.append(int(sys.stdin.readline()))\n",
    "for i in range(1,n) : \n",
    " if L[i] > max :\n",
    "   if max+1 != L[i] :\n",
    "     cnt +=1\n",
    "   max = L[i]\n",
    " else :\n",
    "   cnt +=1\n",
    "print(cnt)"
   ]
  }
 ],
 "metadata": {
  "kernelspec": {
   "display_name": "Python 3 (ipykernel)",
   "language": "python",
   "name": "python3"
  },
  "language_info": {
   "codemirror_mode": {
    "name": "ipython",
    "version": 3
   },
   "file_extension": ".py",
   "mimetype": "text/x-python",
   "name": "python",
   "nbconvert_exporter": "python",
   "pygments_lexer": "ipython3",
   "version": "3.9.7"
  }
 },
 "nbformat": 4,
 "nbformat_minor": 5
}
