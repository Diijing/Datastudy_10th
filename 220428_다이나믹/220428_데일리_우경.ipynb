{
 "cells": [
  {
   "cell_type": "markdown",
   "id": "7e9a0544",
   "metadata": {},
   "source": [
    "# 📖 Daily Study / group12"
   ]
  },
  {
   "cell_type": "markdown",
   "id": "88f96d70",
   "metadata": {},
   "source": [
    "📍 2022년 4월 21일\n",
    "\n",
    "📍 진우의 달 여행 https://www.acmicpc.net/problem/17484"
   ]
  },
  {
   "cell_type": "markdown",
   "id": "95f20a83",
   "metadata": {},
   "source": [
    "문제\n",
    "- 우주비행이 꿈이였던 진우는 음식점 '매일매일싱싱'에서 열심히 일한 결과 달 여행에 필요한 자금을 모두 마련하였다! \n",
    "- 지구와 우주사이는 N X M 행렬로 나타낼 수 있으며 각 원소의 값은 우주선이 그 공간을 지날 때 소모되는 연료의 양이다.\n",
    "\n",
    "\n",
    "- 진우는 여행경비를 아끼기 위해 조금 특이한 우주선을 선택하였다. \n",
    "- 진우가 선택한 우주선의 특징은 아래와 같다.\n",
    "\n",
    "1. 지구 -> 달로 가는 경우 우주선이 움직일 수 있는 방향은 아래와 같다.\n",
    "2. 우주선은 전에 움직인 방향으로 움직일 수 없다. 즉, 같은 방향으로 두번 연속으로 움직일 수 없다.\n",
    "\n",
    "- 진우의 목표는 연료를 최대한 아끼며 지구의 어느위치에서든 출발하여 달의 어느위치든 착륙하는 것이다.\n",
    "\n",
    "- 최대한 돈을 아끼고 살아서 달에 도착하고 싶은 진우를 위해 달에 도달하기 위해 필요한 연료의 최소값을 계산해 주자.\n",
    "\n",
    "입력\n",
    "- 첫줄에 지구와 달 사이 공간을 나타내는 행렬의 크기를 나타내는 N, M (2≤ N, M ≤ 6)이 주어진다.\n",
    "\n",
    "- 다음 N줄 동안 각 행렬의 원소 값이 주어진다. 각 행렬의 원소값은 100 이하의 자연수이다.\n",
    "\n",
    "출력\n",
    "- 달 여행에 필요한 최소 연료의 값을 출력한다."
   ]
  },
  {
   "cell_type": "markdown",
   "id": "cbb14100",
   "metadata": {},
   "source": [
    "### 💻 문제를 풀어주세요"
   ]
  },
  {
   "cell_type": "code",
   "execution_count": 16,
   "id": "22f1af61",
   "metadata": {
    "scrolled": true
   },
   "outputs": [
    {
     "name": "stdout",
     "output_type": "stream",
     "text": [
      "6 4\n",
      "5 8 5 1\n",
      "[0, 0, 0, 1]\n",
      "1\n",
      "3 5 8 4\n",
      "9 77 65 5\n",
      "[1, 0, 0, 0]\n",
      "14\n",
      "2 1 5 2\n",
      "[0, 1, 0, 0]\n",
      "15\n",
      "[0, 1, 0, 0]\n",
      "16\n",
      "5 98 1 5\n",
      "[0, 0, 1, 0]\n",
      "17\n",
      "[0, 0, 1, 0]\n",
      "18\n",
      "4 95 67 58\n"
     ]
    }
   ],
   "source": [
    "n, m = list(map(int, input().split()))\n",
    "\n",
    "fuel = 0\n",
    "jinu = [0] * m\n",
    "\n",
    "for i in range(n):\n",
    "    kans = list(map(int, input().split()))\n",
    "    if i == 0:\n",
    "        fuel += min(kans)\n",
    "        for j in range(len(jinu)):\n",
    "            if min(kans) == kans[j]:\n",
    "                jinu[j] += 1\n",
    "                print(jinu)\n",
    "                print(fuel)\n",
    "    else:\n",
    "        if max(jinu) == jinu[0]:\n",
    "            jinu = [0] * m\n",
    "            fuel += min(kans[:2])\n",
    "            for j in range(len(kans[:2])):\n",
    "                if min(kans[:2]) == kans[j]:\n",
    "                    jinu[j] += 1\n",
    "                    print(jinu)\n",
    "                    print(fuel)\n",
    "                             \n",
    "        if max(jinu) == jinu[1]:\n",
    "            jinu = [0] * m\n",
    "            fuel += min(kans[:3])\n",
    "            for j in range(len(kans[:3])):\n",
    "                if min(kans[:3]) == kans[j]:\n",
    "                    jinu[j] += 1\n",
    "                    print(jinu)\n",
    "                    print(fuel)\n",
    "            \n",
    "        if max(jinu) == jinu[2]:\n",
    "            jinu = [0] * m\n",
    "            fuel += min(kans[1:])\n",
    "            for j in range(len(kans[1:])):\n",
    "                if min(kans[1:]) == kans[j]:\n",
    "                    jinu[j] += 1\n",
    "                    print(jinu)\n",
    "                    print(fuel)\n",
    "            \n",
    "        if max(jinu) == jinu[3]:\n",
    "            jinu = [0] * m \n",
    "            fuel += min(kans[2:])\n",
    "            for j in range(len(kans[2:])):\n",
    "                if min(kans[2:]) == kans[j]:\n",
    "                    jinu[j] += 1\n",
    "                    print(jinu)\n",
    "                    print(fuel)"
   ]
  },
  {
   "cell_type": "code",
   "execution_count": 17,
   "id": "f264c9ea",
   "metadata": {},
   "outputs": [
    {
     "name": "stdout",
     "output_type": "stream",
     "text": [
      "134\n",
      "[0, 0, 0, 0]\n"
     ]
    }
   ],
   "source": [
    "print(fuel)\n",
    "print(jinu)"
   ]
  },
  {
   "cell_type": "markdown",
   "id": "15a7ef6b",
   "metadata": {},
   "source": [
    "### ❓ 함께 이야기 하고싶은 부분을 자유롭게 기록해주세요"
   ]
  },
  {
   "cell_type": "code",
   "execution_count": null,
   "id": "e637032f",
   "metadata": {},
   "outputs": [],
   "source": []
  },
  {
   "cell_type": "markdown",
   "id": "128f6561",
   "metadata": {},
   "source": [
    "📍 2022년 4월 21일\n",
    "\n",
    "📍 달나라 토끼를 위한 구매대금 지불 도우미 https://www.acmicpc.net/problem/17212"
   ]
  },
  {
   "cell_type": "code",
   "execution_count": null,
   "id": "daa44944",
   "metadata": {},
   "outputs": [],
   "source": []
  },
  {
   "cell_type": "code",
   "execution_count": null,
   "id": "c568835d",
   "metadata": {},
   "outputs": [],
   "source": []
  },
  {
   "cell_type": "code",
   "execution_count": null,
   "id": "d735861d",
   "metadata": {},
   "outputs": [],
   "source": []
  }
 ],
 "metadata": {
  "kernelspec": {
   "display_name": "Python 3 (ipykernel)",
   "language": "python",
   "name": "python3"
  },
  "language_info": {
   "codemirror_mode": {
    "name": "ipython",
    "version": 3
   },
   "file_extension": ".py",
   "mimetype": "text/x-python",
   "name": "python",
   "nbconvert_exporter": "python",
   "pygments_lexer": "ipython3",
   "version": "3.9.7"
  }
 },
 "nbformat": 4,
 "nbformat_minor": 5
}
