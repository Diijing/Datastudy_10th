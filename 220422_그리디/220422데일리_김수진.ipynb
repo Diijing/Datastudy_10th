{
  "cells": [
    {
      "cell_type": "markdown",
      "metadata": {
        "id": "EopryfYConMS"
      },
      "source": [
        "# 📖 Daily Study / group5"
      ]
    },
    {
      "cell_type": "markdown",
      "metadata": {
        "id": "KRmxDiBzonMV"
      },
      "source": [
        "\n",
        "> #### 📍 2022년 4월 22일"
      ]
    },
    {
      "cell_type": "markdown",
      "metadata": {
        "id": "YqDD6XJlonMW"
      },
      "source": [
        "#### 💻 1. 자료구조(공통문제)에 대한 코드를 작성해 주세요  \n",
        "https://www.acmicpc.net/problem/5545 최고의 피자 / 그리디\n"
      ]
    },
    {
      "cell_type": "code",
      "source": [
        "# n : 토핑의 수\n",
        "# a,b/ 도우가격 / 토핑가격\n",
        "# c : 도우의 열량\n",
        "# d: 각 토핑의 열량들\n",
        "\n",
        "import sys\n",
        "input = sys.stdin.readline\n",
        "\n",
        "n= int(input())\n",
        "a,b= map(int,input().split())\n",
        "c = int(input())\n",
        "d=[]\n",
        "\n",
        "for _ in range(n):\n",
        "    d.append(int(input().strip()))\n",
        "d.sort(reverse=True)\n",
        "\n",
        "\n",
        "# 1.\n",
        "# 모든 경우의 수 가격/열량 구해서 최대값만 출력\n",
        "#경우 : 토핑0개 ~ n개 선택까지\n",
        "\n",
        "#0개 열량 / 가격\n",
        "# c//a\n",
        "#1개 열량 / 가격\n",
        "# for i in range(len(d)):\n",
        "#     one_tp = (c+d[i]) // (a+b)\n",
        "#     pizza_of_the_best.append(one_tp)\n",
        "\n",
        "# 0~n-1개까지 다 구해야함? 비효율\n",
        "\n",
        "\n",
        "\n",
        "# 2.\n",
        "# 어짜피 칼로리가 높은 토핑 + 그다음 토핑 추가 되면 가격당 열량은 낮아질 가능성이 높음 >> 하나씩 추가하면서 비교\n",
        "\n",
        "pizza_of_the_best= c//a #토핑이 없는경우(도우만)가 최소 >> 출력값으로 정해놓음\n",
        "case=0\n",
        "kcal=c\n",
        "one=a\n",
        "\n",
        "for i in range(n):\n",
        "    kcal+= d[i]\n",
        "    one += b\n",
        "    case= kcal// one\n",
        "\n",
        "    if case >= pizza_of_the_best:\n",
        "        pizza_of_the_best = case\n",
        "\n",
        "print(pizza_of_the_best)"
      ],
      "metadata": {
        "id": "tZkPbDqVdOfd"
      },
      "execution_count": null,
      "outputs": []
    },
    {
      "cell_type": "code",
      "source": [
        ""
      ],
      "metadata": {
        "id": "QfGNIWgAdTvT"
      },
      "execution_count": null,
      "outputs": []
    },
    {
      "cell_type": "markdown",
      "metadata": {
        "id": "_7cwd4QUonMZ"
      },
      "source": [
        "---"
      ]
    },
    {
      "cell_type": "markdown",
      "metadata": {
        "id": "4e3jyPMlonMe"
      },
      "source": [
        "#### ❓ 함께 이야기 하고싶은 부분을 자유롭게 기록해주세요"
      ]
    },
    {
      "cell_type": "code",
      "source": [
        ""
      ],
      "metadata": {
        "id": "bxe5aOCdhFLf"
      },
      "execution_count": null,
      "outputs": []
    }
  ],
  "metadata": {
    "kernelspec": {
      "display_name": "Python 3",
      "language": "python",
      "name": "python3"
    },
    "language_info": {
      "codemirror_mode": {
        "name": "ipython",
        "version": 3
      },
      "file_extension": ".py",
      "mimetype": "text/x-python",
      "name": "python",
      "nbconvert_exporter": "python",
      "pygments_lexer": "ipython3",
      "version": "3.7.3"
    },
    "colab": {
      "name": "220422데일리_김수진.ipynb",
      "provenance": [],
      "collapsed_sections": []
    }
  },
  "nbformat": 4,
  "nbformat_minor": 0
}