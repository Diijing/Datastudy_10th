{
 "cells": [
  {
   "cell_type": "markdown",
   "metadata": {},
   "source": [
    "# 📖 Daily Study / group12"
   ]
  },
  {
   "cell_type": "markdown",
   "metadata": {},
   "source": [
    "\n",
    "> #### 📍 2022년 4월 22일\n",
    "> #### 📍 https://www.acmicpc.net/problem/5545"
   ]
  },
  {
   "cell_type": "markdown",
   "metadata": {},
   "source": [
    "문제\n",
    "- 상근이는 근처 피자 가게에서 매일 저녁으로 피자를 배달해 먹는다. \n",
    "- 주머니 사정이 얇아진 상근이는 이번 달부터는 \"최고의 피자\"를 구매하려고 한다. \n",
    "- 최고의 피자란, 피자 가게에서 주문할 수 있는 피자 중 1원당 열량이 가장 높은 피자를 말한다. \n",
    "- 최고의 피자는 여러 종류가 있을 수도 있다.\n",
    "\n",
    "- 이 피자 가게는 토핑 N개에서 여러 종류를 선택해서 주문할 수 있다. \n",
    "- 같은 종류의 토핑을 2개 이상 선택할 수는 없다. \n",
    "- 또, 토핑을 전혀 선택하지 않을 수도 있다.\n",
    "\n",
    "- 선택한 토핑은 도우 위에 올라간다. \n",
    "- 도우의 가격은 A원이고, 토핑의 가격은 모두 B원이다. \n",
    "- 피자의 가격은 도우와 토핑의 가격의 합계가 된다. \n",
    "- 즉, 토핑을 k종류 (0 ≤ k ≤ N) 선택했다면, 피자의 가격은 A + B*k원이 된다. \n",
    "- 피자의 열량은 도우와 토핑의 열량의 합이다.\n",
    "\n",
    "- 도우의 가격, 토핑의 가격, 그리고 도우와 각 토핑의 열량 값이 주어졌을 때, 최고의 피자의 1원 당 열량을 구하는 프로그램을 작성하시오.\n",
    "\n",
    "입력\n",
    "- 첫째 줄에 토핑의 종류의 수 N(1 ≤ N ≤ 100)이 주어진다. \n",
    "- 둘째 줄에는 도우의 가격 A와 토핑의 가격 B가 주어진다. (1 ≤ A, B ≤ 1000) \n",
    "- 셋째 줄에는 도우의 열량 C가 주어진다. (1 ≤ C ≤ 10000) 다음 줄부터 N개 줄에는 각 토핑의 열량 Di가 한 줄에 하나씩 주어진다. \n",
    "- (1 ≤ Di ≤ 10000)\n",
    "\n",
    "출력\n",
    "- 첫째 줄에 최고의 피자의 1원 당 열량을 출력한다. 소수점 이하는 버리고 정수 값으로 출력한다."
   ]
  },
  {
   "cell_type": "markdown",
   "metadata": {},
   "source": [
    "#### 💻 문제를 풀어주세요"
   ]
  },
  {
   "cell_type": "code",
   "execution_count": 29,
   "metadata": {},
   "outputs": [
    {
     "name": "stdout",
     "output_type": "stream",
     "text": [
      "3\n",
      "12 2\n",
      "200\n",
      "50\n",
      "300\n",
      "100\n",
      "37\n"
     ]
    }
   ],
   "source": [
    " # 이곳에 입력해주세요\n",
    "    \n",
    "import math \n",
    "\n",
    "calorie_party = 0\n",
    "ready_to_pay = 0\n",
    "toping_cal = []\n",
    "\n",
    "#토핑 종류 입력\n",
    "how_many_topings = int(input())\n",
    "\n",
    "#도우 가격, 토핑 가격 입력\n",
    "dough_price, toping_price = map(int, input().split(' '))\n",
    "ready_to_pay += dough_price\n",
    "\n",
    "#도우 칼로리 입력\n",
    "dough_cal = int(input())\n",
    "calorie_party += dough_cal\n",
    "\n",
    "#토핑의 열량 입력\n",
    "for i in range(how_many_topings):\n",
    "    toping_cal.append(int(input()))  \n",
    "    \n",
    "#입력된 토핑 하나씩 출력: 도우는 무조건 포함되어야 하므로 \n",
    "#'도우열량/도우단가' 보다 열량효율(토핑열량/토핑단가)가 높을 시 열량 효율이 개선됨 \n",
    "# 해당 조건에서 토핑 추가되도록 함\n",
    "for j in range(how_many_topings):\n",
    "    if round(toping_cal[j] / toping_price, 0) >= round(dough_cal / dough_price, 0):\n",
    "        ready_to_pay += toping_price\n",
    "        calorie_party += toping_cal[j]\n",
    "\n",
    "answer = calorie_party / ready_to_pay\n",
    "print(math.ceil(answer)) #math.ceil 정수 올림"
   ]
  },
  {
   "cell_type": "markdown",
   "metadata": {},
   "source": [
    "#### ❓ 함께 이야기 하고싶은 부분을 자유롭게 기록해주세요"
   ]
  },
  {
   "cell_type": "markdown",
   "metadata": {},
   "source": []
  },
  {
   "cell_type": "markdown",
   "metadata": {},
   "source": [
    "\n",
    "> #### 📍 2022년 4월 22일\n",
    "> #### 📍 넷이 놀기 https://www.acmicpc.net/problem/2121"
   ]
  },
  {
   "cell_type": "markdown",
   "metadata": {},
   "source": [
    "문제\n",
    "- 네 사람이서 2차원 평면상의 N개의 점을 이용해서 할 수 있는 놀이가 있다. \n",
    "- 바로 각 사람이 1개씩의 점을 적절히 선택해서 변이 x축 혹은 y축에 평행한 직사각형을 만드는 일이다. \n",
    "- 물론 그냥 만들면 재미가 없기 때문에 가로의 길이가 A 세로의 길이가 B인 직사각형을 몇 가지나 만들 수 있는지 알아보기로 했다.\n",
    "\n",
    "- 예를 들어 점이 A(0, 0), B(2, 0), C(0, 3), D(2, 3), E(4, 0), F(4, 3)의 6개가 있고, 만들고 싶은 직사각형이 가로가 2, 세로가 3인 직사각형이라면 (A, B, C, D), (B, D, E, F)의 두 가지 경우가 가능하다. \n",
    "- 모든 경우의 수를 구해보자.\n",
    "\n",
    "입력\n",
    "- 첫 줄에 점들의 개수 N(5 ≤ N ≤ 500,000)이 주어진다. 둘째 줄에 만들고 싶은 직사각형의 가로 길이 A(1 ≤ A ≤ 1,000)와 세로 길이 B(1 ≤ B ≤ 1,000)가 주어진다. \n",
    "- 다음 N줄에 걸쳐서 점들의 좌표가 정수로 주어진다. \n",
    "- 이 값의 범위는 -1,000,000,000이상 1,000,000,000이하이다. \n",
    "- N개 점들의 좌표는 각각 다르다.\n",
    "\n",
    "출력\n",
    "- 첫 줄에 가능한 모든 경우의 수를 출력한다. 경우의 수는 2^31-1보다 작거나 같다."
   ]
  },
  {
   "cell_type": "code",
   "execution_count": 34,
   "metadata": {},
   "outputs": [
    {
     "name": "stdout",
     "output_type": "stream",
     "text": [
      "6\n",
      "2 3\n",
      "0 0\n",
      "2 0\n",
      "2 3\n",
      "0 3\n",
      "4 0\n",
      "4 3\n"
     ]
    }
   ],
   "source": [
    "n = int(input())\n",
    "a, b = map(int, input().split(' '))\n",
    "dots = []\n",
    "for i in range(n):\n",
    "    dots.append(list(map(int, input().split(' '))))\n",
    "    \n",
    "dots.sort"
   ]
  },
  {
   "cell_type": "code",
   "execution_count": 35,
   "metadata": {},
   "outputs": [
    {
     "data": {
      "text/plain": [
       "[[0, 0], [2, 0], [2, 3], [0, 3], [4, 0], [4, 3]]"
      ]
     },
     "execution_count": 35,
     "metadata": {},
     "output_type": "execute_result"
    }
   ],
   "source": [
    "counting_squares = 0\n",
    "for j in range(len(dots)):\n",
    "\n",
    "    "
   ]
  },
  {
   "cell_type": "code",
   "execution_count": null,
   "metadata": {},
   "outputs": [],
   "source": []
  },
  {
   "cell_type": "code",
   "execution_count": null,
   "metadata": {},
   "outputs": [],
   "source": []
  }
 ],
 "metadata": {
  "kernelspec": {
   "display_name": "Python 3 (ipykernel)",
   "language": "python",
   "name": "python3"
  },
  "language_info": {
   "codemirror_mode": {
    "name": "ipython",
    "version": 3
   },
   "file_extension": ".py",
   "mimetype": "text/x-python",
   "name": "python",
   "nbconvert_exporter": "python",
   "pygments_lexer": "ipython3",
   "version": "3.9.7"
  }
 },
 "nbformat": 4,
 "nbformat_minor": 2
}
