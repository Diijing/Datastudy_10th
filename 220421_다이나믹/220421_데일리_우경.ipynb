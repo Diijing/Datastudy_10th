{
 "cells": [
  {
   "cell_type": "markdown",
   "metadata": {},
   "source": [
    "# 📖 Daily Study / group12"
   ]
  },
  {
   "cell_type": "markdown",
   "metadata": {},
   "source": [
    "\n",
    "> #### 📍 2022월 4월 21일\n",
    "> #### 📍 달나라 토끼를 위한 구매대금 지불 도우미 https://www.acmicpc.net/problem/17212"
   ]
  },
  {
   "cell_type": "markdown",
   "metadata": {},
   "source": [
    "문제\n",
    "- 달나라 토끼들이 사용하는 화폐는 동전뿐이다. 동전의 종류는 1원, 2원, 5원, 7원 이렇게 4종류가 있다. \n",
    "- 물건을 사고 동전으로 계산을 하는데 동전의 개수가 최소가 되도록 지불하지 않는 것은 불법이다. \n",
    "- 예를 들어, 17원을 지불할 때 7원짜리 동전 1개와 5원짜리 동전 2개로 지불해야 합법이고, 7원짜리 동전 2개와 2원짜리 동전 1개, 1원짜리 동전 1개로 지불해도 17원이 되지만, 총 동전의 개수가 4개가 되어 최소 개수가 아니므로 불법이다.\n",
    "\n",
    "- 지불 금액을 입력받아 합법이 되는 동전 개수를 출력으로 내어주는 프로그램을 작성해보자.\n",
    "\n",
    "입력\n",
    "- 첫 번째 줄에 달나라 토끼가 지불해야하는 금액 N(0 ≤ N ≤ 100,000)이 주어진다.\n",
    "\n",
    "출력\n",
    "- 첫 번째 줄에 달나라 토끼가 합법적으로 낼 수 있는 동전의 개수를 출력한다."
   ]
  },
  {
   "cell_type": "markdown",
   "metadata": {},
   "source": [
    "#### 💻 문제를 풀어주세요"
   ]
  },
  {
   "cell_type": "code",
   "execution_count": 3,
   "metadata": {},
   "outputs": [],
   "source": [
    " # 이곳에 입력해주세요\n",
    "    "
   ]
  },
  {
   "cell_type": "code",
   "execution_count": 14,
   "metadata": {},
   "outputs": [
    {
     "name": "stdout",
     "output_type": "stream",
     "text": [
      "12\n",
      "2\n"
     ]
    }
   ],
   "source": [
    "# https://blog.naver.com/dkdltmais9/222548017210\n",
    "# 규칙을 찾아서 리스트 안에 답을 넣고 순서에 맞춰 출력하도록 함\n",
    "\n",
    "n = int(input())\n",
    "\n",
    "if n >= 8:\n",
    "    money = [0,1,1,2,2,1,2,1] + [0]*(n-7)\n",
    "    for i in range(8,n+1):\n",
    "        money[i] = min(money[i-1]+1,money[i-2]+1,money[i-5]+1,money[i-7]+1)\n",
    "    print(money[n])\n",
    "\n",
    "else:\n",
    "    money = [0, 1, 1, 2, 2, 1, 2, 1]\n",
    "    print(money[n])"
   ]
  },
  {
   "cell_type": "markdown",
   "metadata": {},
   "source": [
    "#### ❓ 함께 이야기 하고싶은 부분을 자유롭게 기록해주세요"
   ]
  },
  {
   "cell_type": "markdown",
   "metadata": {},
   "source": []
  },
  {
   "cell_type": "markdown",
   "metadata": {},
   "source": [
    "\n",
    "> #### 📍 2022월 4월 21일\n",
    "> #### 📍현수의 열기구 교실 https://www.acmicpc.net/problem/13915"
   ]
  },
  {
   "cell_type": "markdown",
   "metadata": {},
   "source": [
    "문제\n",
    "- 현수는 열기구 여름특강의 강사다. \n",
    "- 현수는 매우 성실해서 모든 수강생들의 열기구 비행을 기록하고있다. \n",
    "- 매 비행 이후, 현수는 그 비행에 참석한 수강생들의 기록을 리스트에 추가한다. \n",
    "- 리스트에는 각 수강생마다 띄웠던 기구의 인식번호만이 기록된다. \n",
    "\n",
    "- 매 시즌이 끝난 후, 현수는 얼마나 많은 종류의 열기구들을 비행해봤는지에 따른 수강생들의 숙련도를 분류해 나열하려고한다. \n",
    "- 만약 두 수강생이 비행했던 열기구의 종류들이 같다면 두 수강생은 같은 숙련도를 가진것으로 분류된다. \n",
    "- (이 경우, 비행을 한 횟수는 관계가 없다.)\n",
    "\n",
    "- 현수는 총 9 종류의 열기구를 관리하며, 수강생들의 기록은 각 열기구의 번호들로써 이루어진다. \n",
    "- 모든 수강생들 중 비행 횟수가 9번을 넘는 수강생은 없다. \n",
    "- (1번 열기구를 3번 2번과 3번을 각각 한번씩 운용했던 수강생의 번호는 11123이 되겠다.) \n",
    "\n",
    "- 예를 들어, 수강생 234423과 수강생 342는 같은 숙련도를 가진 것으로 분류된다. \n",
    "- 하지만 수강생 118821과 수강생 1189821 같은 경우는 9번 열기구 비행 유무의 차이로 다른 숙련도를 가진 것으로 분류된다.\n",
    "\n",
    "- 현수의 리스트에 있는 수강생들이 총 몇개의 숙련도로 분류되는지 구하라.\n",
    "\n",
    "입력\n",
    "- 각 테스트케이스마다 첫 줄에는 총 수강생의 수인 정수 N(1 ≤ N ≤ 1 000) 이 주어진다.\n",
    "\n",
    "- 이어지는 N줄은 열기구 비행 기록을 나타내는 각 수강생들의 번호들이 주어진다.\n",
    "\n",
    "출력\n",
    "- 매 테스트케이스마다 각 줄에 현수의 리스트에 있는 수강생들의 숙련도가 몇 개로 분류되어지는지 출력하라."
   ]
  },
  {
   "cell_type": "code",
   "execution_count": 19,
   "metadata": {},
   "outputs": [
    {
     "name": "stdout",
     "output_type": "stream",
     "text": [
      "5\n",
      "132\n",
      "42\n",
      "3312\n",
      "43\n",
      "24424\n",
      "3\n",
      "222\n",
      "22\n",
      "2\n"
     ]
    }
   ],
   "source": [
    "t = int(input())\n",
    "exp = []\n",
    "for i in range(9):\n",
    "    exp.append((input()))"
   ]
  },
  {
   "cell_type": "code",
   "execution_count": 20,
   "metadata": {},
   "outputs": [
    {
     "data": {
      "text/plain": [
       "['132', '42', '3312', '43', '24424', '3', '222', '22', '2']"
      ]
     },
     "execution_count": 20,
     "metadata": {},
     "output_type": "execute_result"
    }
   ],
   "source": [
    "exp"
   ]
  },
  {
   "cell_type": "code",
   "execution_count": 24,
   "metadata": {},
   "outputs": [
    {
     "data": {
      "text/plain": [
       "['123', '24', '123', '34', '24', '3', '2', '2', '2']"
      ]
     },
     "execution_count": 24,
     "metadata": {},
     "output_type": "execute_result"
    }
   ],
   "source": [
    "e_exp = [''] * (len(exp))\n",
    "for j in range(len(exp)):\n",
    "    if '1' in exp[j]:\n",
    "        e_exp[j] += '1'\n",
    "        \n",
    "    if '2' in exp[j]:\n",
    "        e_exp[j] += '2'\n",
    "        \n",
    "    if '3' in exp[j]:\n",
    "        e_exp[j] += '3'\n",
    "                    \n",
    "    if '4' in exp[j]:\n",
    "        e_exp[j] += '4'\n",
    "        \n",
    "            \n",
    "    if '5' in exp[j]:\n",
    "        e_exp[j] += '5'\n",
    "        \n",
    "            \n",
    "    if '6' in exp[j]:\n",
    "        e_exp[j] += '6'\n",
    "        \n",
    "            \n",
    "    if '7' in exp[j]:\n",
    "        e_exp[j] += '7'\n",
    "        \n",
    "            \n",
    "    if '8' in exp[j]:\n",
    "        e_exp[j] += '8'\n",
    "        \n",
    "            \n",
    "    if '9' in exp[j]:\n",
    "        e_exp[j] += '9'\n",
    "        \n",
    "\n",
    "e_exp "
   ]
  },
  {
   "cell_type": "code",
   "execution_count": 25,
   "metadata": {},
   "outputs": [
    {
     "name": "stdout",
     "output_type": "stream",
     "text": [
      "5\n"
     ]
    }
   ],
   "source": [
    "e_exp = set(e_exp)\n",
    "e_exp = list(e_exp)\n",
    "print(len(e_exp))"
   ]
  },
  {
   "cell_type": "code",
   "execution_count": 26,
   "metadata": {},
   "outputs": [
    {
     "data": {
      "text/plain": [
       "['24', '34', '123', '3', '2']"
      ]
     },
     "execution_count": 26,
     "metadata": {},
     "output_type": "execute_result"
    }
   ],
   "source": [
    "e_exp"
   ]
  }
 ],
 "metadata": {
  "kernelspec": {
   "display_name": "Python 3 (ipykernel)",
   "language": "python",
   "name": "python3"
  },
  "language_info": {
   "codemirror_mode": {
    "name": "ipython",
    "version": 3
   },
   "file_extension": ".py",
   "mimetype": "text/x-python",
   "name": "python",
   "nbconvert_exporter": "python",
   "pygments_lexer": "ipython3",
   "version": "3.9.7"
  }
 },
 "nbformat": 4,
 "nbformat_minor": 2
}
