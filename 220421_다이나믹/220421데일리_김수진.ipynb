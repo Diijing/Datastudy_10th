{
  "cells": [
    {
      "cell_type": "markdown",
      "metadata": {
        "id": "EopryfYConMS"
      },
      "source": [
        "# 📖 Daily Study / group5"
      ]
    },
    {
      "cell_type": "markdown",
      "metadata": {
        "id": "KRmxDiBzonMV"
      },
      "source": [
        "\n",
        "> #### 📍 2022년 4월 21일"
      ]
    },
    {
      "cell_type": "markdown",
      "metadata": {
        "id": "YqDD6XJlonMW"
      },
      "source": [
        "#### 💻 1. 자료구조(공통문제)에 대한 코드를 작성해 주세요  \n",
        "https://www.acmicpc.net/problem/17212 달나라 토끼 / 다이나믹 "
      ]
    },
    {
      "cell_type": "code",
      "source": [
        "money=[7,5,2,1]\n",
        "\n",
        "qu_num=int(input())\n",
        "coin=0\n",
        "\n",
        "for i in money:\n",
        "    count= qu_num//i ; print(1,count)\n",
        "    if count==0:\n",
        "        continue\n",
        "\n",
        "    coin+=count ;print(2,coin)\n",
        "    qu_num-=(count*i) ; print(3,qu_num)\n",
        "    if qu_num==0:\n",
        "        break\n",
        "print(coin)"
      ],
      "metadata": {
        "id": "tZkPbDqVdOfd"
      },
      "execution_count": null,
      "outputs": []
    },
    {
      "cell_type": "code",
      "source": [
        ""
      ],
      "metadata": {
        "id": "QfGNIWgAdTvT"
      },
      "execution_count": null,
      "outputs": []
    },
    {
      "cell_type": "markdown",
      "metadata": {
        "id": "_7cwd4QUonMZ"
      },
      "source": [
        "---"
      ]
    },
    {
      "cell_type": "markdown",
      "metadata": {
        "id": "9JqM0nCgonMb"
      },
      "source": [
        "#### 💻 2. 알고리즘 문제를 설명해 주세요 : 구현      \n",
        "####  https://www.acmicpc.net/problem/20413 MVP 다이아몬드/ 그리디\n",
        "\n",
        "상민이는 게임 단풍잎이야기에 과금을 즐겨 한다. 단풍잎이야기에는 과금액에 따라 혜택을 제공하는 'MVP 등급'이 존재한다.  \n",
        "\n",
        "MVP 등급은 브론즈(B), 실버(S), 골드(G), 플래티넘(P), 다이아몬드(D)로 총 다섯 등급이 있으며, 현재 달과 지난달, 즉 현재 달을 포함한 최근 2개월간의 과금액으로 결정된다.  \n",
        "\n",
        "단, 단풍잎이야기에는 과도한 과금을 막기 위해 '최대 과금 한도'가 있어 한 달에 최대 다이아몬드 등급 기준액 까지만 과금할 수 있으며, 만원 단위로만 과금이 가능하다.  \n",
        "\n",
        "MVP 등급은 해당 달이 끝날 때 계산되어 책정된다. 예를 들어 아래의 표와 같은 등급 기준액을 따르고 1월에 게임을 시작한 상민이가 1월에 30만, 2월에 20만, 3월에 50만 원을 과금했다면 1월(30만)과 2월(30+20=50만)에는 실버 등급, 3월(20+50=70만)에는 골드 등급으로 책정된다. \n",
        "\n",
        "---\n",
        "\n",
        "VP 등급(표기)    등급 기준액\t2개월 간의 과금액\n",
        "브론즈(B)\t    / 0만 원\t    /0 원 ~ 29만 원\n",
        "실버(S)\t        / 30만 원\t/30만 원 ~ 59만 원\n",
        "골드(G)\t        / 60만 원\t/60만 원 ~ 89만 원\n",
        "플래티넘(P)     / 90만 원\t/90만 원 ~ 149만 원\n",
        "다이아몬드(D)\t/ 150만 원\t/150만 원 이상  \n",
        "\n",
        "---\n",
        "\n",
        "상민이는 게임을 시작하고 N개월 동안 수많은 현금을 과금해왔다. 상민이는 이 사실을 자신의 여자친구에만큼은 철저히 비밀로 하고 있었다. 상민이의 여자친구는 상민이가 게임에 과금하는 것을 매우 싫어했기 때문이다. 그러던 어느 날 문제가 발생했다. 상민이의 여자친구에게 N개월간의 MVP 등급 기록이 유출된 것이다!  \n",
        "\n",
        "상민이의 여자친구는 상민의 과금액을 역추적하기 위해 당신에게 부탁했다.  \n",
        "\n",
        "상민이의 여자친구: 상민이가 게임에 최대 얼마나 과금한건지 알려줘.  \n",
        "\n",
        "둘 사이에 어떤 일이 벌어질지는 모르겠지만, 당신은 상민이의 여자친구를 위한 프로그램을 작성해야만 한다.  \n",
        "\n",
        "\n",
        "\n",
        "\n",
        "\n",
        "***입력***  \n",
        "    첫 번째 줄에는 게임을 플레이 한 개월수 N이 주어진다.  \n",
        "    두 번째 줄에는 실버, 골드, 플래티넘, 다이아몬드 등급 기준액 s, g, p, d가 만원 단위로 순서대로 주어진다. 브론즈 등급 기준액은 0 원이다.  \n",
        "    세 번째 줄에는 게임을 플레이 한 첫 번째 달부터 N 번째 달까지의 MVP 등급이 등급 표기대로 주어진다. 기록과 같은 MVP 등급 달성이 불가능한 경우는 주어지지 않는다. \n",
        "\n",
        "***출력*** \n",
        "    입력된 MVP 등급을 달성하기 위한 최대 누적 과금액을 만원 단위로 출력한다.  \n",
        "\n",
        "\n",
        "***제한***  \n",
        "\n",
        "    1 ≤ N ≤ 36\n",
        "    0 < s < g < p < d ≤ 500\n",
        "\n",
        "\n",
        "***예제 입력***  \n",
        "\n",
        "    - 3\n",
        "    - 30 60 90 150\n",
        "    - BSG \n",
        "  \n",
        "\n",
        "    - 10\n",
        "    - 257 269 367 500\n",
        "    - BSGGGGPPDD\n",
        "\n",
        "\n",
        "***출력***  \n",
        "\n",
        "    - 118  \n",
        "    - 2499\n"
      ]
    },
    {
      "cell_type": "markdown",
      "metadata": {
        "id": "DYldIZmmugL_"
      },
      "source": [
        "---"
      ]
    },
    {
      "cell_type": "code",
      "source": [
        ""
      ],
      "metadata": {
        "id": "17nz9eLTuuqy"
      },
      "execution_count": null,
      "outputs": []
    },
    {
      "cell_type": "markdown",
      "metadata": {
        "id": "4e3jyPMlonMe"
      },
      "source": [
        "#### ❓ 함께 이야기 하고싶은 부분을 자유롭게 기록해주세요"
      ]
    },
    {
      "cell_type": "code",
      "source": [
        ""
      ],
      "metadata": {
        "id": "bxe5aOCdhFLf"
      },
      "execution_count": null,
      "outputs": []
    }
  ],
  "metadata": {
    "kernelspec": {
      "display_name": "Python 3",
      "language": "python",
      "name": "python3"
    },
    "language_info": {
      "codemirror_mode": {
        "name": "ipython",
        "version": 3
      },
      "file_extension": ".py",
      "mimetype": "text/x-python",
      "name": "python",
      "nbconvert_exporter": "python",
      "pygments_lexer": "ipython3",
      "version": "3.7.3"
    },
    "colab": {
      "name": "220421데일리_김수진.ipynb",
      "provenance": [],
      "collapsed_sections": []
    }
  },
  "nbformat": 4,
  "nbformat_minor": 0
}