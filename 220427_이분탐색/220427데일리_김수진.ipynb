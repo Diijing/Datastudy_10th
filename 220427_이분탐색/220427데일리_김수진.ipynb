{
  "cells": [
    {
      "cell_type": "markdown",
      "metadata": {
        "id": "EopryfYConMS"
      },
      "source": [
        "# 📖 Daily Study / group5"
      ]
    },
    {
      "cell_type": "markdown",
      "metadata": {
        "id": "KRmxDiBzonMV"
      },
      "source": [
        "\n",
        "> #### 📍 2022년 4월 27일"
      ]
    },
    {
      "cell_type": "markdown",
      "metadata": {
        "id": "YqDD6XJlonMW"
      },
      "source": [
        "#### 💻 1. 자료구조(공통문제)에 대한 코드를 작성해 주세요  \n",
        "https://www.acmicpc.net/problem/2776 암기왕 / 이분탐색\n"
      ]
    },
    {
      "cell_type": "code",
      "source": [
        "t= int(input())\n",
        "\n",
        "for _ in range(t):\n",
        "\n",
        "    n=int(input())\n",
        "    n1 = set(map(int, input().split()))\n",
        "    m=int(input())\n",
        "    m1= list(map(int, input().split()))\n",
        "\n",
        "    for i in m1:\n",
        "        if i in n1:\n",
        "            print(1)\n",
        "        else:\n",
        "            print(0)"
      ],
      "metadata": {
        "id": "tZkPbDqVdOfd"
      },
      "execution_count": null,
      "outputs": []
    },
    {
      "cell_type": "code",
      "source": [
        ""
      ],
      "metadata": {
        "id": "QfGNIWgAdTvT"
      },
      "execution_count": null,
      "outputs": []
    },
    {
      "cell_type": "markdown",
      "metadata": {
        "id": "_7cwd4QUonMZ"
      },
      "source": [
        "---"
      ]
    },
    {
      "cell_type": "markdown",
      "source": [
        "#### 💻 2. 자료구조(공통문제)에 대한 코드를 작성해 주세요  \n",
        "\n",
        "https://www.acmicpc.net/problem/2606  바이러스/ dfs  \n",
        "\n",
        "신종 바이러스인 웜 바이러스는 네트워크를 통해 전파된다. 한 컴퓨터가 웜 바이러스에 걸리면 그 컴퓨터와 네트워크 상에서 연결되어 있는 모든 컴퓨터는 웜 바이러스에 걸리게 된다.  \n",
        "\n",
        "\n",
        "\n",
        "예를 들어 7대의 컴퓨터가 <그림 1>과 같이 네트워크 상에서 연결되어 있다고 하자. 1번 컴퓨터가 웜 바이러스에 걸리면 웜 바이러스는 2번과 5번 컴퓨터를 거쳐 3번과 6번 컴퓨터까지 전파되어 2, 3, 5, 6 네 대의 컴퓨터는 웜 바이러스에 걸리게 된다. 하지만 4번과 7번 컴퓨터는 1번 컴퓨터와 네트워크상에서 연결되어 있지 않기 때문에 영향을 받지 않는다.  \n",
        "\n",
        "![image.png](data:image/png;base64,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)  \n",
        "\n",
        "\n",
        "어느 날 1번 컴퓨터가 웜 바이러스에 걸렸다. 컴퓨터의 수와 네트워크 상에서 서로 연결되어 있는 정보가 주어질 때, 1번 컴퓨터를 통해 웜 바이러스에 걸리게 되는 컴퓨터의 수를 출력하는 프로그램을 작성하시오.  \n",
        "\n",
        "\n",
        "     - 입력 : 첫째 줄에는 컴퓨터의 수가 주어진다.  \n",
        "        컴퓨터의 수는 100 이하이고 각 컴퓨터에는 1번 부터 차례대로 번호가 매겨진다.  \n",
        "        둘째 줄에는 네트워크 상에서 직접 연결되어 있는 컴퓨터 쌍의 수가 주어진다.  \n",
        "        이어서 그 수만큼 한 줄에 한 쌍씩 네트워크 상에서 직접 연결되어 있는 컴퓨터의 번호 쌍이 주어진다.  \n",
        "\n",
        "     - 출력 : 1번 컴퓨터가 웜 바이러스에 걸렸을 때, 1번 컴퓨터를 통해 웜 바이러스에 걸리게 되는 컴퓨터의 수를 첫째 줄에 출력한다.\n",
        "\n",
        " --- \n",
        "\n",
        " - 예제 입력\n",
        "\n",
        " 7  \n",
        " 6  \n",
        " 1 2  \n",
        " 2 3  \n",
        " 1 5  \n",
        " 5 2  \n",
        " 5 6  \n",
        " 4 7  \n",
        "\n",
        "\n",
        "  - 예제 출력  \n",
        " 4\n",
        "\n",
        "\n",
        "\n",
        "\n"
      ],
      "metadata": {
        "id": "Hg5b8ieWwc2j"
      }
    },
    {
      "cell_type": "markdown",
      "source": [
        "---"
      ],
      "metadata": {
        "id": "Bx2KULJxxveL"
      }
    },
    {
      "cell_type": "code",
      "source": [
        "\n",
        "computer=int(input())\n",
        "conect_computer=set()\n",
        "for _ in range(int(input())):\n",
        "    a,b=map(int,input().split())\n",
        "    if a==1 or b==1 :\n",
        "        conect_computer.add(a)\n",
        "        conect_computer.add(b)\n",
        "    elif a in conect_computer or b in conect_computer:\n",
        "        conect_computer.add(a)\n",
        "        conect_computer.add(b)\n",
        "        \n",
        "if len(conect_computer)==0 :\n",
        "    result=0\n",
        "else :\n",
        "    result=len(conect_computer)-1\n",
        "\n",
        "print(result)"
      ],
      "metadata": {
        "id": "3V25snqKwXzj"
      },
      "execution_count": null,
      "outputs": []
    },
    {
      "cell_type": "code",
      "source": [
        "dic={} #빈dict 생성\n",
        "\n",
        "for i in range(int(input())): #컴퓨터 수 만큼 dic 생성(key : 1~n / value=set() )\n",
        "    dic[i+1] = set()\n",
        "for j in range(int(input())): #연결된 쌍 만큼 dic의 value 넣어주기\n",
        "    a, b = map(int,input().split())\n",
        "    dic[a].add(b)\n",
        "    dic[b].add(a)\n",
        "print(dic)\n",
        "\n",
        "def dfs(start, dic):\n",
        "    for i in dic[start]:\n",
        "        if i not in visited:\n",
        "            visited.append(i)\n",
        "            dfs(i, dic)\n",
        "            \n",
        "visited = []\n",
        "dfs(1, dic)\n",
        "if len(visited) == 0:\n",
        "    print(0)\n",
        "else:\n",
        "    print(len(visited)-1)"
      ],
      "metadata": {
        "id": "kamRjG03wYcq"
      },
      "execution_count": null,
      "outputs": []
    },
    {
      "cell_type": "markdown",
      "metadata": {
        "id": "4e3jyPMlonMe"
      },
      "source": [
        "#### ❓ 함께 이야기 하고싶은 부분을 자유롭게 기록해주세요"
      ]
    },
    {
      "cell_type": "code",
      "source": [
        ""
      ],
      "metadata": {
        "id": "bxe5aOCdhFLf"
      },
      "execution_count": null,
      "outputs": []
    }
  ],
  "metadata": {
    "kernelspec": {
      "display_name": "Python 3",
      "language": "python",
      "name": "python3"
    },
    "language_info": {
      "codemirror_mode": {
        "name": "ipython",
        "version": 3
      },
      "file_extension": ".py",
      "mimetype": "text/x-python",
      "name": "python",
      "nbconvert_exporter": "python",
      "pygments_lexer": "ipython3",
      "version": "3.7.3"
    },
    "colab": {
      "name": "220427데일리_김수진.ipynb",
      "provenance": [],
      "collapsed_sections": []
    }
  },
  "nbformat": 4,
  "nbformat_minor": 0
}