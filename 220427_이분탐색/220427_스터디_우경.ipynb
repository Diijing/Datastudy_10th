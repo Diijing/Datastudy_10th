{
 "cells": [
  {
   "cell_type": "markdown",
   "id": "7e9a0544",
   "metadata": {},
   "source": [
    "# 📖 Daily Study / group12"
   ]
  },
  {
   "cell_type": "markdown",
   "id": "88f96d70",
   "metadata": {},
   "source": [
    "📍 2022년 4월 21일\n",
    "\n",
    "📍 암기왕 https://www.acmicpc.net/problem/2776"
   ]
  },
  {
   "cell_type": "markdown",
   "id": "fcc12bfd",
   "metadata": {},
   "source": [
    "문제\n",
    "- 연종이는 엄청난 기억력을 가지고 있다. \n",
    "- 그래서 하루 동안 본 정수들을 모두 기억 할 수 있다. \n",
    "- 하지만 이를 믿을 수 없는 동규는 그의 기억력을 시험해 보기로 한다. \n",
    "- 동규는 연종을 따라 다니며, 연종이 하루 동안 본 정수들을 모두 ‘수첩1’에 적어 놓았다. \n",
    "- 그것을 바탕으로 그가 진짜 암기왕인지 알아보기 위해, 동규는 연종에게 M개의 질문을 던졌다. \n",
    "- 질문의 내용은 “X라는 정수를 오늘 본 적이 있는가?” 이다. \n",
    "- 연종은 막힘없이 모두 대답을 했고, 동규는 연종이 봤다고 주장하는 수 들을 ‘수첩2’에 적어 두었다. \n",
    "- 집에 돌아온 동규는 답이 맞는지 확인하려 하지만, 연종을 따라다니느라 너무 힘들어서 여러분에게 도움을 요청했다. \n",
    "- 동규를 도와주기 위해 ‘수첩2’에 적혀있는 순서대로, 각각의 수에 대하여, ‘수첩1’에 있으면 1을, 없으면 0을 출력하는 프로그램을 작성해보자.\n",
    "\n",
    "입력\n",
    "- 첫째 줄에 테스트케이스의 개수 T가 들어온다. \n",
    "- 다음 줄에는 ‘수첩 1’에 적어 놓은 정수의 개수 N(1 ≤ N ≤ 1,000,000)이 입력으로 들어온다. \n",
    "- 그 다음 줄에  ‘수첩 1’에 적혀 있는 정수들이 N개 들어온다. \n",
    "- 그 다음 줄에는 ‘수첩 2’에 적어 놓은 정수의 개수 M(1 ≤ M ≤ 1,000,000) 이 주어지고, 다음 줄에 ‘수첩 2’에 적어 놓은 정수들이 입력으로 M개 들어온다. \n",
    "- 모든 정수들의 범위는 int 로 한다.\n",
    "\n",
    "출력\n",
    "- ‘수첩2’에 적혀있는 M개의 숫자 순서대로, ‘수첩1’에 있으면 1을, 없으면 0을 출력한다."
   ]
  },
  {
   "cell_type": "markdown",
   "id": "cbb14100",
   "metadata": {},
   "source": [
    "### 💻 문제를 풀어주세요"
   ]
  },
  {
   "cell_type": "code",
   "execution_count": 7,
   "id": "78b452d3",
   "metadata": {},
   "outputs": [
    {
     "name": "stdout",
     "output_type": "stream",
     "text": [
      "1\n",
      "5\n",
      "4 1 5 2 3\n",
      "5\n",
      "1 3 7 9 5\n",
      "1\n",
      "1\n",
      "0\n",
      "0\n",
      "1\n"
     ]
    }
   ],
   "source": [
    "t = int(input()) #t번 시행\n",
    "\n",
    "for i in range(t):\n",
    "    n = int(input()) #n개의 정수\n",
    "    f_diary = set(map(int, input().split(' ')))\n",
    "    \n",
    "    m = int(input()) #n개의 정수\n",
    "    s_diary = list(map(int, input().split(' ')))\n",
    "    \n",
    "    for j in range(m):\n",
    "        if s_diary[j] in f_diary:\n",
    "            print('1')\n",
    "        else:\n",
    "            print('0')"
   ]
  },
  {
   "cell_type": "markdown",
   "id": "15a7ef6b",
   "metadata": {},
   "source": [
    "### ❓ 함께 이야기 하고싶은 부분을 자유롭게 기록해주세요"
   ]
  },
  {
   "cell_type": "markdown",
   "id": "5301afb6",
   "metadata": {},
   "source": [
    "실버 4 좋아요"
   ]
  },
  {
   "cell_type": "markdown",
   "id": "128f6561",
   "metadata": {},
   "source": [
    "📍 2022년 4월 27일\n",
    "\n",
    "📍 조커 찾기 https://www.acmicpc.net/problem/24393"
   ]
  },
  {
   "cell_type": "markdown",
   "id": "46e3ed0c",
   "metadata": {},
   "source": [
    "문제\n",
    "- 중앙대학교에 다니는 수현이는 머신러닝을 공부하던 중 심심하여 트럼프 카드를 가지고 놀고 있다. \n",
    "- 언젠가 유튜브에서 타짜 기술을 사용하는 영상을 보고 따라하고 싶어진 수현이는 카드 덱의 맨 위에 조커를 올려두고 카드를 섞어서 원하는 위치로 보내고자 한다.\n",
    "\n",
    "- 카드는 일반 카드 26장, 조커 1장 총 27장을 사용한다. \n",
    "- 맨 위쪽 카드를 1번, 맨 아래쪽 카드를 27번이라고 하자. \n",
    "\n",
    "- 처음 상태에선 조커가 1번 위치에 있다.\n",
    "\n",
    "- 카드 섞기를 N번 진행한다고 할 때 i번째로 카드를 섞는 방법을 Ai라고 한다면, i번째 새로운 덱은 다음과 같은 순서로 만들어진다.\n",
    "\n",
    "- i-1번째 덱의 위에서부터 순서를 유지한 채로 13장을 왼쪽으로, 나머지 14장을 오른쪽으로 가져간다.\n",
    "- 오른쪽 덱의 맨 위에서 Ai1장을 가져와서 새로운 덱의 맨 위에 배치한다.\n",
    "- 왼쪽 덱의 맨 위에서 Ai2장을 가져와서 그 아래에 배치한다.\n",
    "- 다시 남은 오른쪽 덱의 맨 위에서 Ai3장을 가져와 3번에서 만든 덱 아래에 배치한다. \n",
    "- 3~4번과 같이 Aij장씩을 교대로 가져와서 새로운 덱 아래에 배치한다. 단, Ai홀수의 합은 14, Ai짝수의 합은 13이다. \n",
    "- 즉, Ai의 합은 27이다.\n",
    "- 이 기술을 사용할 줄 모르는 수현이를 위해 카드를 섞은 횟수와 섞일 때마다 카드가 어떻게 섞이는지 주어진다면, 카드 섞기를 마치고 난 후 조커의 위치는 위에서부터 몇 번째 카드인지 알려주자!\n",
    "\n",
    "입력\n",
    "- 첫 번째 줄에는 카드를 섞는 횟수 N이 주어진다. (1 ≤ N ≤ 106)\n",
    "\n",
    "- 두 번째 줄부터 N+1번째 줄까지 각 줄마다 i번째 새로운 덱을 만들기 위해 수열 Ai가 주어진다. (1 ≤ i ≤ N, 1 ≤ Aij) \n",
    "\n",
    "- 입력되는 모든 정수의 개수는 107 + 1개 이하이다. \n",
    "\n",
    "출력\n",
    "- 카드 섞기를 완료했을 때 조커가 덱의 맨 위에서 몇 번째에 있는지 출력한다."
   ]
  },
  {
   "cell_type": "code",
   "execution_count": null,
   "id": "c568835d",
   "metadata": {},
   "outputs": [],
   "source": [
    "n = int(input())\n",
    "for i in range(n+1):\n",
    "    a = map(int, input().split())\n",
    "    \n",
    "    "
   ]
  },
  {
   "cell_type": "code",
   "execution_count": null,
   "id": "353a07c0",
   "metadata": {},
   "outputs": [],
   "source": []
  },
  {
   "cell_type": "code",
   "execution_count": null,
   "id": "b74461f0",
   "metadata": {},
   "outputs": [],
   "source": []
  },
  {
   "cell_type": "code",
   "execution_count": null,
   "id": "d735861d",
   "metadata": {},
   "outputs": [],
   "source": []
  }
 ],
 "metadata": {
  "kernelspec": {
   "display_name": "Python 3 (ipykernel)",
   "language": "python",
   "name": "python3"
  },
  "language_info": {
   "codemirror_mode": {
    "name": "ipython",
    "version": 3
   },
   "file_extension": ".py",
   "mimetype": "text/x-python",
   "name": "python",
   "nbconvert_exporter": "python",
   "pygments_lexer": "ipython3",
   "version": "3.9.7"
  }
 },
 "nbformat": 4,
 "nbformat_minor": 5
}
